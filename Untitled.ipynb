{
 "cells": [
  {
   "cell_type": "code",
   "execution_count": 3,
   "id": "469380ac",
   "metadata": {},
   "outputs": [
    {
     "data": {
      "image/png": "[encoded data removed]",
      "text/plain": [
       "<Figure size 432x288 with 1 Axes>"
      ]
     },
     "metadata": {
      "needs_background": "light"
     },
     "output_type": "display_data"
    }
   ],
   "source": [
    "import numpy as np\n",
    "import scipy as sp\n",
    "from scipy.stats import rv_continuous\n",
    "import matplotlib.pyplot as plt\n",
    "\n",
    "\n",
    "class Agent_gen():\n",
    "    def __init__(self, name, opinion_0, activity_0):\n",
    "        self.name = name\n",
    "        self.x_i = opinion_0\n",
    "        self.a_i = activity_0\n",
    "\n",
    "# Define classes\n",
    "class F_gen(rv_continuous):\n",
    "    \"\"\"Activitiy sampling distribution. For Reference, see https://docs.scipy.org/doc/scipy/reference/generated/scipy.stats.rv_continuous.html#scipy.stats.rv_continuous\"\"\"\n",
    "    # define probability distribution as the paper's \"F(a)\"\n",
    "    def _pdf(self, x):\n",
    "        return ((1-gamma)/(1-epsilon**(1-gamma)))*x**(-1*gamma)\n",
    "\n",
    "\n",
    "# Define methods\n",
    "def dx_gen(x, i, alpha, K):\n",
    "    sum_tmp = 0\n",
    "    for j in range(N):\n",
    "        sum_tmp = sum_tmp+A[i][j]*np.tanh(alpha*x[j])\n",
    "    return -x+K*sum_tmp\n",
    "\n",
    "def p_ij(i, j):\n",
    "    sum_tmp = 0\n",
    "    for j_tmp in range(N):\n",
    "        sum_tmp = sum_tmp+abs(x[i]-x[j_tmp])**(-beta)\n",
    "    return (abs(x[i]-x[j])**(-beta))/sum_tmp\n",
    "\n",
    "# Define fixed parameters\n",
    "dt = 0.01\n",
    "N = 100\n",
    "beta = 1\n",
    "K=3\n",
    "# Fixed activity-driving (AD) parameters\n",
    "m = 10\n",
    "epsilon = 0.01\n",
    "gamma = 2.1\n",
    "r = 0.5 \n",
    "\n",
    "# Initialise Agents with uniformly spaced opinions, F(a)-sampled activity\n",
    "x = np.linspace(-1,1,N)\n",
    "F_dist = F_gen(name='F_dist', a=epsilon)\n",
    "a = F_dist.rvs(size=N)\n",
    "agents = []\n",
    "for i in range(N):\n",
    "    name_tmp = 'agent-'+str(i)\n",
    "    agents.append(name_tmp)\n",
    "    agents[i] = Agent_gen(name_tmp, x[i], a[i])\n",
    "    \n",
    "\n",
    "agents[1].x_i\n",
    "\n",
    "list_tmp = []\n",
    "for i in range(N):\n",
    "    list_tmp.append(agents[i].a_i)\n",
    "\n",
    "plt.hist(list_tmp, bins=30)\n",
    "plt.show()\n",
    "# self, name, opinion_0, activity_0\n",
    "\n",
    "# TODO:\n",
    "# Runge-Kutta 4\n",
    "# aktualisiere W'keiten p"
   ]
  },
  {
   "cell_type": "code",
   "execution_count": 88,
   "id": "23843a70",
   "metadata": {
    "scrolled": false
   },
   "outputs": [
    {
     "data": {
      "text/plain": [
       "<function matplotlib.pyplot.show(close=None, block=None)>"
      ]
     },
     "execution_count": 88,
     "metadata": {},
     "output_type": "execute_result"
    },
    {
     "data": {
      "image/png": "[encoded data removed]",
      "text/plain": [
       "<Figure size 432x288 with 1 Axes>"
      ]
     },
     "metadata": {
      "needs_background": "light"
     },
     "output_type": "display_data"
    }
   ],
   "source": [
    "# Look of F(a)\n",
    "a = np.linspace (0,2)\n",
    "F = np.zeros(len(a)-1)\n",
    "for i in range(len(a)-1):\n",
    "    F[i] = ((1-gamma)/(1-epsilon**(1-gamma)))*a[i+1]**(-1*gamma)\n",
    "\n",
    "plt.plot(a[1:],F)\n",
    "plt.show"
   ]
  }
 ],
 "metadata": {
  "kernelspec": {
   "display_name": "Python 3 (ipykernel)",
   "language": "python",
   "name": "python3"
  },
  "language_info": {
   "codemirror_mode": {
    "name": "ipython",
    "version": 3
   },
   "file_extension": ".py",
   "mimetype": "text/x-python",
   "name": "python",
   "nbconvert_exporter": "python",
   "pygments_lexer": "ipython3",
   "version": "3.10.4"
  }
 },
 "nbformat": 4,
 "nbformat_minor": 5
}
