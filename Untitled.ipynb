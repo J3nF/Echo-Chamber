{
 "cells": [
  {
   "cell_type": "code",
   "execution_count": 42,
   "id": "469380ac",
   "metadata": {},
   "outputs": [],
   "source": [
    "import numpy as np\n",
    "import scipy as sp\n",
    "from scipy.stats import rv_continuous\n",
    "import matplotlib.pyplot as plt\n",
    "\n",
    "class F(rv_continuous):\n",
    "    \"\"\"Activitiy sampling distribution. For Reference, see https://docs.scipy.org/doc/scipy/reference/generated/scipy.stats.rv_continuous.html#scipy.stats.rv_continuous\"\"\"\n",
    "    def _pdf(self, x):\n",
    "        return ((1-gamma)/(1-epsilon**(1-gamma)))*x**(-1*gamma)\n",
    "\n",
    "dt = 0.01\n",
    "N = 1000\n",
    "beta = 1\n",
    "r = 0.65\n",
    "a = np.zeros(N)\n",
    "\n",
    "for i in range(N):\n",
    "    a[i] = \n",
    "\n",
    "#AD dynamics parameters\n",
    "m = 10\n",
    "epsilon = 0.01\n",
    "gamma = 2.1\n",
    "r = 0.65"
   ]
  },
  {
   "cell_type": "code",
   "execution_count": 41,
   "id": "23843a70",
   "metadata": {},
   "outputs": [
    {
     "data": {
      "text/plain": [
       "array([1.02040816, 1.04081633, 1.06122449, 1.08163265, 1.10204082,\n",
       "       1.12244898, 1.14285714, 1.16326531, 1.18367347, 1.20408163,\n",
       "       1.2244898 , 1.24489796, 1.26530612, 1.28571429, 1.30612245,\n",
       "       1.32653061, 1.34693878, 1.36734694, 1.3877551 , 1.40816327,\n",
       "       1.42857143, 1.44897959, 1.46938776, 1.48979592, 1.51020408,\n",
       "       1.53061224, 1.55102041, 1.57142857, 1.59183673, 1.6122449 ,\n",
       "       1.63265306, 1.65306122, 1.67346939, 1.69387755, 1.71428571,\n",
       "       1.73469388, 1.75510204, 1.7755102 , 1.79591837, 1.81632653,\n",
       "       1.83673469, 1.85714286, 1.87755102, 1.89795918, 1.91836735,\n",
       "       1.93877551, 1.95918367, 1.97959184, 2.        ])"
      ]
     },
     "execution_count": 41,
     "metadata": {},
     "output_type": "execute_result"
    }
   ],
   "source": [
    "a = np.linspace (1,2)\n",
    "a[1:]"
   ]
  },
  {
   "cell_type": "code",
   "execution_count": null,
   "id": "d8cb2a46",
   "metadata": {},
   "outputs": [],
   "source": []
  }
 ],
 "metadata": {
  "kernelspec": {
   "display_name": "Python 3 (ipykernel)",
   "language": "python",
   "name": "python3"
  },
  "language_info": {
   "codemirror_mode": {
    "name": "ipython",
    "version": 3
   },
   "file_extension": ".py",
   "mimetype": "text/x-python",
   "name": "python",
   "nbconvert_exporter": "python",
   "pygments_lexer": "ipython3",
   "version": "3.8.12"
  }
 },
 "nbformat": 4,
 "nbformat_minor": 5
}
