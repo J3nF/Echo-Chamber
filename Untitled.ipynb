{
 "cells": [
  {
   "cell_type": "code",
   "execution_count": 43,
   "id": "469380ac",
   "metadata": {},
   "outputs": [
    {
     "data": {
      "image/png": "[encoded data removed]",
      "text/plain": [
       "<Figure size 432x288 with 1 Axes>"
      ]
     },
     "metadata": {
      "needs_background": "light"
     },
     "output_type": "display_data"
    }
   ],
   "source": [
    "import numpy as np\n",
    "import scipy as sp\n",
    "from scipy.stats import rv_continuous\n",
    "import matplotlib.pyplot as plt\n",
    "\n",
    "\n",
    "class Agent_gen():\n",
    "    def __init__(self, name, opinion_0, activity_0):\n",
    "        self.name = name\n",
    "        self.x_i = opinion_0\n",
    "        self.a_i = activity_0\n",
    "\n",
    "# Define classes\n",
    "class F_gen(rv_continuous):\n",
    "    \"\"\"Activitiy sampling distribution. For Reference, see https://docs.scipy.org/doc/scipy/reference/generated/scipy.stats.rv_continuous.html#scipy.stats.rv_continuous\"\"\"\n",
    "    # define probability distribution as the paper's \"F(a)\"\n",
    "    def _pdf(self, x):\n",
    "        return ((1-gamma)/(1-epsilon**(1-gamma)))*x**(-1*gamma)\n",
    "\n",
    "\n",
    "# Define methods\n",
    "def dx_gen(x, i, alpha, K):\n",
    "    sum_tmp = 0\n",
    "    for j in range(N):\n",
    "        sum_tmp = sum_tmp+A[i][j]*np.tanh(alpha*x[j])\n",
    "    return -x+K*sum_tmp\n",
    "\n",
    "def p_ij(i, j):\n",
    "    sum_tmp = 0\n",
    "    for j_tmp in range(N):\n",
    "        sum_tmp = sum_tmp+abs(x[i]-x[j_tmp])**(-beta)\n",
    "    return (abs(x[i]-x[j])**(-beta))/sum_tmp\n",
    "\n",
    "# Define fixed parameters\n",
    "dt = 0.01\n",
    "N = 100\n",
    "beta = 1\n",
    "K=3\n",
    "# Fixed activity-driving (AD) parameters\n",
    "m = 10\n",
    "epsilon = 0.01\n",
    "gamma = 2.1\n",
    "r = 0.5 \n",
    "\n",
    "# Initialise Agents with uniformly spaced opinions, F(a)-sampled activity\n",
    "x = np.linspace(-1,1,N)\n",
    "F_dist = F_gen(name='F_dist', a=epsilon)\n",
    "a = F_dist.rvs(size=N)\n",
    "agents = []\n",
    "for i in range(N):\n",
    "    name_tmp = 'agent-'+str(i)\n",
    "    agents.append(name_tmp)\n",
    "    agents[i] = Agent_gen(name_tmp, x[i], a[i])\n",
    "    \n",
    "\n",
    "agents[1].x_i\n",
    "\n",
    "list_tmp = []\n",
    "for i in range(N):\n",
    "    list_tmp.append(agents[i].a_i)\n",
    "\n",
    "plt.hist(list_tmp, bins=30)\n",
    "plt.show()\n",
    "# self, name, opinion_0, activity_0\n",
    "\n",
    "# TODO:\n",
    "# Runge-Kutta 4\n",
    "# aktualisiere W'keiten p"
   ]
  },
  {
   "cell_type": "code",
   "execution_count": 42,
   "id": "23843a70",
   "metadata": {
    "scrolled": false
   },
   "outputs": [
    {
     "data": {
      "text/plain": [
       "<function matplotlib.pyplot.show(close=None, block=None)>"
      ]
     },
     "execution_count": 42,
     "metadata": {},
     "output_type": "execute_result"
    },
    {
     "data": {
      "image/png": "[encoded data removed]",
      "text/plain": [
       "<Figure size 432x288 with 1 Axes>"
      ]
     },
     "metadata": {
      "needs_background": "light"
     },
     "output_type": "display_data"
    }
   ],
   "source": [
    "# Look of F(a)\n",
    "a_plotter = np.linspace (0,2)\n",
    "F_plotter = np.zeros(len(a)-1)\n",
    "for i in range(len(a)-1):\n",
    "    F_plotter[i] = ((1-gamma)/(1-epsilon**(1-gamma)))*a[i+1]**(-1*gamma)\n",
    "\n",
    "plt.plot(a_plotter[1:],F_plotter)\n",
    "plt.show"
   ]
  },
  {
   "cell_type": "code",
   "execution_count": 54,
   "id": "aa8776c8",
   "metadata": {},
   "outputs": [
    {
     "data": {
      "text/plain": [
       "array([[0.01932605, 0.05677885, 0.01134048, 0.204807  , 0.01035681,\n",
       "        0.02159893, 0.01474074, 0.03572311, 0.02444187, 0.04973906,\n",
       "        0.01769577, 0.04299119, 0.08063618, 0.01999325, 0.01219952,\n",
       "        0.01190448, 0.4147963 , 0.02598602, 0.01071068, 0.03458292,\n",
       "        0.02108999, 0.6713007 , 0.03585871, 0.01248508, 0.01762497,\n",
       "        0.02979679, 0.01316482, 0.01049884, 0.01508245, 0.14135351,\n",
       "        0.01981094, 0.07171048, 0.01936184, 0.01909695, 0.09165654,\n",
       "        0.01311673, 0.03707706, 0.01674555, 0.01748569, 0.01493243,\n",
       "        0.01172134, 0.02458148, 0.03566945, 0.03783887, 0.02577885,\n",
       "        0.01056036, 0.03183797, 0.04117948, 0.01285669, 0.03428139,\n",
       "        0.01217983, 0.033683  , 0.01038721, 0.01020201, 0.01762631,\n",
       "        0.01067301, 0.01046711, 0.01899504, 0.01541741, 0.0129831 ,\n",
       "        0.07859625, 0.03823178, 0.01681666, 0.01366332, 0.01856911,\n",
       "        0.01640738, 0.02431894, 0.02926762, 0.44572511, 0.01824489,\n",
       "        0.03940622, 0.02303172, 0.13129368, 0.02578765, 0.03406141,\n",
       "        0.01014664, 0.04166146, 0.01359409, 0.02567246, 0.01801462,\n",
       "        0.0145755 , 0.029224  , 0.01384936, 0.02542452, 0.01018684,\n",
       "        0.01923592, 0.15159828, 0.01832514, 0.01087079, 0.5151773 ,\n",
       "        0.01998132, 0.01192718, 0.01700834, 0.0107432 , 0.02033142,\n",
       "        0.01558742, 0.0254557 , 0.015635  , 0.03510021, 0.03843804],\n",
       "       [0.01932605, 0.05677885, 0.01134048, 0.204807  , 0.01035681,\n",
       "        0.02159893, 0.01474074, 0.03572311, 0.02444187, 0.04973906,\n",
       "        0.01769577, 0.04299119, 0.08063618, 0.01999325, 0.01219952,\n",
       "        0.01190448, 0.4147963 , 0.02598602, 0.01071068, 0.03458292,\n",
       "        0.02108999, 0.6713007 , 0.03585871, 0.01248508, 0.01762497,\n",
       "        0.02979679, 0.01316482, 0.01049884, 0.01508245, 0.14135351,\n",
       "        0.01981094, 0.07171048, 0.01936184, 0.01909695, 0.09165654,\n",
       "        0.01311673, 0.03707706, 0.01674555, 0.01748569, 0.01493243,\n",
       "        0.01172134, 0.02458148, 0.03566945, 0.03783887, 0.02577885,\n",
       "        0.01056036, 0.03183797, 0.04117948, 0.01285669, 0.03428139,\n",
       "        0.01217983, 0.033683  , 0.01038721, 0.01020201, 0.01762631,\n",
       "        0.01067301, 0.01046711, 0.01899504, 0.01541741, 0.0129831 ,\n",
       "        0.07859625, 0.03823178, 0.01681666, 0.01366332, 0.01856911,\n",
       "        0.01640738, 0.02431894, 0.02926762, 0.44572511, 0.01824489,\n",
       "        0.03940622, 0.02303172, 0.13129368, 0.02578765, 0.03406141,\n",
       "        0.01014664, 0.04166146, 0.01359409, 0.02567246, 0.01801462,\n",
       "        0.0145755 , 0.029224  , 0.01384936, 0.02542452, 0.01018684,\n",
       "        0.01923592, 0.15159828, 0.01832514, 0.01087079, 0.5151773 ,\n",
       "        0.01998132, 0.01192718, 0.01700834, 0.0107432 , 0.02033142,\n",
       "        0.01558742, 0.0254557 , 0.015635  , 0.03510021, 0.03843804]])"
      ]
     },
     "execution_count": 54,
     "metadata": {},
     "output_type": "execute_result"
    }
   ],
   "source": [
    "np.vstack((a, a))"
   ]
  },
  {
   "cell_type": "code",
   "execution_count": null,
   "id": "5f80a695",
   "metadata": {},
   "outputs": [],
   "source": []
  }
 ],
 "metadata": {
  "kernelspec": {
   "display_name": "Python 3 (ipykernel)",
   "language": "python",
   "name": "python3"
  },
  "language_info": {
   "codemirror_mode": {
    "name": "ipython",
    "version": 3
   },
   "file_extension": ".py",
   "mimetype": "text/x-python",
   "name": "python",
   "nbconvert_exporter": "python",
   "pygments_lexer": "ipython3",
   "version": "3.10.4"
  }
 },
 "nbformat": 4,
 "nbformat_minor": 5
}
