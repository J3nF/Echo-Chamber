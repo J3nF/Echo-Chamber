{
 "cells": [
  {
   "cell_type": "code",
   "execution_count": 1,
   "id": "469380ac",
   "metadata": {},
   "outputs": [],
   "source": [
    "import numpy as np\n",
    "from numpy.random import default_rng\n",
    "from scipy.integrate import odeint\n",
    "from scipy.stats import rv_continuous\n",
    "import matplotlib.pyplot as plt"
   ]
  },
  {
   "cell_type": "code",
   "execution_count": 8,
   "id": "66399785",
   "metadata": {},
   "outputs": [],
   "source": [
    "# Define classes\n",
    "class Agent:\n",
    "    def __init__(self, opinion, activity):\n",
    "        self.x=opinion\n",
    "        self.a=activity\n",
    "        #self.active=False\n",
    "        \n",
    "    def setOpinion(opinion):\n",
    "        self.x=opinion   \n",
    "        \n",
    "    def getOpinion(self):\n",
    "        return self.x\n",
    "    \n",
    "    def setActivity(activity):\n",
    "        self.a=activity\n",
    "        \n",
    "class Model:\n",
    "    def __init__(self, N):\n",
    "        \n",
    "        x = np.linspace(-1,1,N)\n",
    "        PowerDistribution = PowerLaw(a=epsilon)\n",
    "        a = PowerDistribution.rvs(size=N)\n",
    "        self.network = []\n",
    "        for i in range(N):\n",
    "            self.network.append(Agent(x[i], a[i]))\n",
    "            \n",
    "    def getNetwork(self):\n",
    "        return self.network\n",
    "    \n",
    "    def getAllOpinions(self):\n",
    "        allOpinions = np.zeros(len(self.network))\n",
    "        for i in range(len(self.network)):\n",
    "            allOpinions[i] = self.network[i].getOpinion()\n",
    "        return allOpinions\n",
    "\n",
    "class PowerLaw(rv_continuous):\n",
    "    \"\"\"Activitiy sampling distribution identical to Baumann et al.\n",
    "    It models the intuitive assumption, that by far most people\n",
    "    are hardly posting on social media, and even less people being\n",
    "    very active. \n",
    "    \n",
    "\n",
    "    For Reference, see https://docs.scipy.org/doc/scipy/reference/generated/scipy.stats.rv_continuous.html#scipy.stats.rv_continuous\"\"\"\n",
    "    # define probability distribution as the paper's \"F(a)\"\n",
    "    def _pdf(self, x):\n",
    "        return ((1-gamma)/(1-epsilon**(1-gamma)))*x**(-1*gamma)\n"
   ]
  },
  {
   "cell_type": "code",
   "execution_count": null,
   "id": "c409e912",
   "metadata": {},
   "outputs": [],
   "source": [
    "# Define methods\n",
    "\n",
    "# Implement differential eq. 'dx/dt = [...]' as 'f(t) = [...]' \n",
    "def diffEq(x, t, alpha, K):\n",
    "    sol = np.zeros(N)\n",
    "    for i in range(N):\n",
    "        sum_tmp = 0\n",
    "        for j in range(N):\n",
    "            sum_tmp = sum_tmp+A[i][j]*np.tanh(alpha*x[j])\n",
    "        sol[i] = -x[i]+K*sum_tmp\n",
    "    return sol\n",
    "\n",
    "def p(i, j, x, beta):\n",
    "    sum_tmp = 0\n",
    "    for j_tmp in range(len(x)):\n",
    "        if x[i] != x[j_tmp]:\n",
    "            sum_tmp = sum_tmp+abs(x[i]-x[j_tmp])**(-beta)\n",
    "    return (abs(x[i]-x[j])**(-beta))/sum_tmp\n",
    "\n",
    "def A_gen(x, beta):\n",
    "    rng = default_rng()\n",
    "    A = np.zeros((N,N))\n",
    "    for i in range(N):\n",
    "        for j in range(N):\n",
    "            if i != j:\n",
    "                A[i][j] = p(i,j, x, beta)\n",
    "\n",
    "    for i in range(N):\n",
    "        m = 0\n",
    "        while m < 10:\n",
    "            for j in range(N):\n",
    "                if A[i][j] > rng.random() and m<10:\n",
    "                    A[i][j] = 1.\n",
    "                    m = m+1\n",
    "                    print(\"    m=\", m)\n",
    "                else:\n",
    "                    A[i][j] = 0\n",
    "        return A"
   ]
  },
  {
   "cell_type": "code",
   "execution_count": null,
   "id": "f74b453c",
   "metadata": {},
   "outputs": [
    {
     "name": "stdout",
     "output_type": "stream",
     "text": [
      "1\n",
      "2\n",
      "3\n",
      "4\n",
      "5\n",
      "6\n",
      "7\n",
      "8\n",
      "9\n",
      "10\n",
      "0\n"
     ]
    }
   ],
   "source": [
    "# Runge-Kutta 4 Implementation\n",
    "# Define fixed parameters\n",
    "t_current = 0\n",
    "tMax = 0.1\n",
    "dt = 0.01\n",
    "N = 100\n",
    "\n",
    "K=3\n",
    "# Define different alpha, beta values as arrays from which to pick for each graph\n",
    "alphas = np.array([.05, 3, 3])\n",
    "betas = np.array([2, 0, 3])\n",
    "alpha_current = alphas[0]\n",
    "beta_current = betas[0]\n",
    "\n",
    "# Fixed activity-driving (AD) parameters\n",
    "#m = 10\n",
    "epsilon = 0.01\n",
    "gamma = 2.1\n",
    "#r = 0.5\n",
    "\n",
    "\n",
    "model = Model(N)\n",
    "opinionStorage = model.getAllOpinions()\n",
    "\n",
    "while t_current < tMax:\n",
    "    currentOpinions = model.getAllOpinions()\n",
    "    t_RK4 = np.linspace(t_current, t_current+dt, 4)\n",
    "    A = A_gen(currentOpinions, beta_current)\n",
    "    solODE = odeint(diffEq, currentOpinions, t_RK4, args=(alpha_current, K))\n",
    "    # Append second column of solODE, as first one is filled with starting values\n",
    "    opinionStorage = np.vstack([opinionStorage, solODE[3]])\n",
    "    print(t_current)\n",
    "    t_current = t_current + dt"
   ]
  },
  {
   "cell_type": "code",
   "execution_count": null,
   "id": "47aa6d5f",
   "metadata": {},
   "outputs": [],
   "source": [
    "file = open('example.txt', 'w')\n",
    "np.savetxt('example.txt', opinionStorage)\n",
    "file.close()"
   ]
  },
  {
   "cell_type": "code",
   "execution_count": null,
   "id": "d05210a6",
   "metadata": {},
   "outputs": [],
   "source": [
    "opinionStorage.T"
   ]
  },
  {
   "cell_type": "code",
   "execution_count": null,
   "id": "76e10d1c",
   "metadata": {},
   "outputs": [],
   "source": [
    "len(opinionStorage)"
   ]
  },
  {
   "cell_type": "code",
   "execution_count": null,
   "id": "978fcb0b",
   "metadata": {},
   "outputs": [],
   "source": [
    "color = 'b'\n",
    "#iterate through network and draw lines\n",
    "\n",
    "\n",
    "for i in opinionStorage.T:\n",
    "    if sum(i) < 0:\n",
    "        color = 'r'\n",
    "    else:\n",
    "        color ='b'\n",
    "    print(i)   \n",
    "    plt.plot(i, color)\n",
    "\n",
    "    \n",
    "plt.xlabel('Time')\n",
    "plt.ylabel('Opinion')\n",
    "plt.title('Figure 1')\n",
    "\n",
    "plt.ylim([-1, 1])\n",
    "plt.xticks([0, 5, 10])\n",
    "plt.yticks([-5, 0, 5])\n",
    "plt.show()"
   ]
  },
  {
   "cell_type": "code",
   "execution_count": null,
   "id": "c04c8507",
   "metadata": {},
   "outputs": [],
   "source": [
    "len(xneu)"
   ]
  },
  {
   "cell_type": "code",
   "execution_count": null,
   "id": "8b35a515",
   "metadata": {},
   "outputs": [],
   "source": []
  }
 ],
 "metadata": {
  "celltoolbar": "Raw Cell Format",
  "kernelspec": {
   "display_name": "Python 3 (ipykernel)",
   "language": "python",
   "name": "python3"
  },
  "language_info": {
   "codemirror_mode": {
    "name": "ipython",
    "version": 3
   },
   "file_extension": ".py",
   "mimetype": "text/x-python",
   "name": "python",
   "nbconvert_exporter": "python",
   "pygments_lexer": "ipython3",
   "version": "3.10.4"
  }
 },
 "nbformat": 4,
 "nbformat_minor": 5
}
