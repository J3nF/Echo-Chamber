{
 "cells": [
  {
   "cell_type": "code",
   "execution_count": 38,
   "id": "469380ac",
   "metadata": {},
   "outputs": [],
   "source": [
    "import numpy as np\n",
    "from numpy.random import default_rng\n",
    "from scipy.integrate import odeint\n",
    "from scipy.stats import rv_continuous\n",
    "import matplotlib.pyplot as plt"
   ]
  },
  {
   "cell_type": "code",
   "execution_count": 39,
   "id": "b4c4d8b6",
   "metadata": {},
   "outputs": [],
   "source": [
    "# Define classes\n",
    "class Agent:\n",
    "    def __init__(self, opinion, activity):\n",
    "        self.x=opinion\n",
    "        self.a=activity\n",
    "        #self.active=False\n",
    "        \n",
    "    def setOpinion(opinion):\n",
    "        self.x=opinion   \n",
    "        \n",
    "    def getOpinion(self):\n",
    "        return self.x\n",
    "    \n",
    "    def setActivity(activity):\n",
    "        self.a=activity\n",
    "        \n",
    "class Model:\n",
    "    def __init__(self, N):\n",
    "        \n",
    "        x = np.linspace(-1,1,N)\n",
    "        PowerDistribution = PowerLaw(a=epsilon)\n",
    "        a = PowerDistribution.rvs(size=N)\n",
    "        self.network = []\n",
    "        for i in range(N):\n",
    "            self.network.append(Agent(x[i], a[i]))\n",
    "            \n",
    "    def getNetwork(self):\n",
    "        return self.network\n",
    "    \n",
    "    def getAllOpinions(self):\n",
    "        allOpinions = np.zeros(len(self.network))\n",
    "        for i in range(len(self.network)):\n",
    "            allOpinions[i] = self.network[i].getOpinion()\n",
    "        return allOpinions\n",
    "\n",
    "class PowerLaw(rv_continuous):\n",
    "    \"\"\"Activitiy sampling distribution identical to Baumann et al.\n",
    "    It models the intuitive assumption, that by far most people\n",
    "    are hardly posting on social media, and even less people being\n",
    "    very active. \n",
    "    \n",
    "\n",
    "    For Reference, see https://docs.scipy.org/doc/scipy/reference/generated/scipy.stats.rv_continuous.html#scipy.stats.rv_continuous\"\"\"\n",
    "    # define probability distribution as the paper's \"F(a)\"\n",
    "    def _pdf(self, x):\n",
    "        return ((1-gamma)/(1-epsilon**(1-gamma)))*x**(-1*gamma)\n"
   ]
  },
  {
   "cell_type": "code",
   "execution_count": 40,
   "id": "9d5fb0ed",
   "metadata": {},
   "outputs": [],
   "source": [
    "# Define methods\n",
    "\n",
    "# Implement differential eq. 'dx/dt = [...]' as 'f(t) = [...]' \n",
    "def diffEq(x, t, alpha, K):\n",
    "    sol = np.zeros(N)\n",
    "    for i in range(N):\n",
    "        sum_tmp = 0\n",
    "        for j in range(N):\n",
    "            sum_tmp = sum_tmp+A[i][j]*np.tanh(alpha*x[j])\n",
    "        sol[i] = -x[i]+K*sum_tmp\n",
    "    return sol\n",
    "\n",
    "def calculateProbabilities(i, j, x, beta):\n",
    "    sum_tmp = 0\n",
    "    for j_tmp in range(len(x)):\n",
    "        if x[i] != x[j_tmp]:\n",
    "            sum_tmp = sum_tmp+abs(x[i]-x[j_tmp])**(-beta)\n",
    "    return (abs(x[i]-x[j])**(-beta))/sum_tmp\n",
    "\n",
    "def generateContactMatrix(x, beta, m, r):\n",
    "    rng = default_rng()\n",
    "    A = np.zeros((N,N))\n",
    "    for i in range(N):\n",
    "        for j in range(N):\n",
    "            if i != j:\n",
    "                A[i][j] = calculateProbabilities(i,j, x, beta)\n",
    "                if m*A[i][j] > rng.random():\n",
    "                    A[i][j] = 1\n",
    "                    # Füge recipr. contacting ein:\n",
    "                    if r > rng.random():\n",
    "                        A[j][i] = 1\n",
    "    return A"
   ]
  },
  {
   "cell_type": "code",
   "execution_count": 41,
   "id": "c2c57087",
   "metadata": {},
   "outputs": [
    {
     "name": "stdout",
     "output_type": "stream",
     "text": [
      "---\n",
      "Model started\n",
      "---\n",
      "\n",
      "0\n",
      "0.01\n",
      "0.02\n",
      "0.03\n",
      "0.04\n",
      "0.05\n",
      "0.060000000000000005\n",
      "0.07\n",
      "0.08\n",
      "0.09\n",
      "0.09999999999999999\n",
      "\n",
      "---\n",
      "Model finished\n"
     ]
    }
   ],
   "source": [
    "# Define fixed parameters\n",
    "t_current = 0\n",
    "tMax = 0.1\n",
    "dt = 0.01\n",
    "N = 100\n",
    "K=3\n",
    "# Define different alpha, beta values as arrays from which to pick for each graph\n",
    "alphas = np.array([.05, 3, 3])\n",
    "betas = np.array([2, 0, 3])\n",
    "alpha_current = 20\n",
    "beta_current = betas[0]\n",
    "\n",
    "# Fixed activity-driving (AD) parameters\n",
    "m = 10\n",
    "epsilon = 0.01\n",
    "gamma = 2.1\n",
    "r = 0.5\n",
    "\n",
    "\n",
    "model = Model(N)\n",
    "opinionStorage = model.getAllOpinions()\n",
    "\n",
    "print('---\\nModel started\\n---\\n')\n",
    "\n",
    "# Integrate dynamics with 4th order Runge-Kutta (RK4)\n",
    "\n",
    "while t_current < tMax:\n",
    "    currentOpinions = model.getAllOpinions()\n",
    "    t_RK4 = np.linspace(t_current, t_current+dt, 100)\n",
    "    A = generateContactMatrix(currentOpinions, beta_current, m, r)\n",
    "    solODE = odeint(diffEq, currentOpinions, t_RK4, args=(alpha_current, K))\n",
    "    # Append second column of solODE, as first one is filled with starting values\n",
    "    opinionStorage = np.vstack([opinionStorage, solODE[3]])\n",
    "    print(t_current)\n",
    "    t_current = t_current + dt\n",
    "\n",
    "print('\\n---\\nModel finished')"
   ]
  },
  {
   "cell_type": "code",
   "execution_count": 42,
   "id": "acfa088d",
   "metadata": {},
   "outputs": [
    {
     "data": {
      "text/plain": [
       "array([[-1.        , -1.00543708, -1.00523002, ..., -1.00433655,\n",
       "        -1.00523273, -1.00261107],\n",
       "       [-0.97979798, -0.98324086, -0.98414925, ..., -0.98502579,\n",
       "        -0.98322409, -0.98235346],\n",
       "       [-0.95959596, -0.96305541, -0.96222522, ..., -0.96482954,\n",
       "        -0.96485579, -0.96396047],\n",
       "       ...,\n",
       "       [ 0.95959596,  0.96484487,  0.96222524, ...,  0.96392936,\n",
       "         0.96483743,  0.96572692],\n",
       "       [ 0.97979798,  0.98414847,  0.98333205, ...,  0.98243572,\n",
       "         0.98324086,  0.9833083 ],\n",
       "       [ 1.        ,  1.00333393,  1.00525898, ...,  1.00437956,\n",
       "         1.00171757,  1.00436036]])"
      ]
     },
     "execution_count": 42,
     "metadata": {},
     "output_type": "execute_result"
    }
   ],
   "source": [
    "opinionStorage.T"
   ]
  },
  {
   "cell_type": "code",
   "execution_count": 43,
   "id": "a918060f",
   "metadata": {},
   "outputs": [
    {
     "ename": "ValueError",
     "evalue": "x and y must have same first dimension, but have shapes (1000,) and (12,)",
     "output_type": "error",
     "traceback": [
      "\u001b[0;31m---------------------------------------------------------------------------\u001b[0m",
      "\u001b[0;31mValueError\u001b[0m                                Traceback (most recent call last)",
      "Input \u001b[0;32mIn [43]\u001b[0m, in \u001b[0;36m<cell line: 6>\u001b[0;34m()\u001b[0m\n\u001b[1;32m      9\u001b[0m     \u001b[38;5;28;01melse\u001b[39;00m:\n\u001b[1;32m     10\u001b[0m         color \u001b[38;5;241m=\u001b[39m\u001b[38;5;124m'\u001b[39m\u001b[38;5;124mb\u001b[39m\u001b[38;5;124m'\u001b[39m   \n\u001b[0;32m---> 11\u001b[0m     \u001b[43mplt\u001b[49m\u001b[38;5;241;43m.\u001b[39;49m\u001b[43mplot\u001b[49m\u001b[43m(\u001b[49m\u001b[43mtimestep\u001b[49m\u001b[43m,\u001b[49m\u001b[43m \u001b[49m\u001b[43mi\u001b[49m\u001b[43m,\u001b[49m\u001b[43m \u001b[49m\u001b[43mcolor\u001b[49m\u001b[43m)\u001b[49m\n\u001b[1;32m     14\u001b[0m plt\u001b[38;5;241m.\u001b[39mxlabel(\u001b[38;5;124m'\u001b[39m\u001b[38;5;124mTime\u001b[39m\u001b[38;5;124m'\u001b[39m)\n\u001b[1;32m     15\u001b[0m plt\u001b[38;5;241m.\u001b[39mylabel(\u001b[38;5;124m'\u001b[39m\u001b[38;5;124mOpinion\u001b[39m\u001b[38;5;124m'\u001b[39m)\n",
      "File \u001b[0;32m~/anaconda3/envs/stat-pymc-inference/lib/python3.10/site-packages/matplotlib/pyplot.py:2757\u001b[0m, in \u001b[0;36mplot\u001b[0;34m(scalex, scaley, data, *args, **kwargs)\u001b[0m\n\u001b[1;32m   2755\u001b[0m \u001b[38;5;129m@_copy_docstring_and_deprecators\u001b[39m(Axes\u001b[38;5;241m.\u001b[39mplot)\n\u001b[1;32m   2756\u001b[0m \u001b[38;5;28;01mdef\u001b[39;00m \u001b[38;5;21mplot\u001b[39m(\u001b[38;5;241m*\u001b[39margs, scalex\u001b[38;5;241m=\u001b[39m\u001b[38;5;28;01mTrue\u001b[39;00m, scaley\u001b[38;5;241m=\u001b[39m\u001b[38;5;28;01mTrue\u001b[39;00m, data\u001b[38;5;241m=\u001b[39m\u001b[38;5;28;01mNone\u001b[39;00m, \u001b[38;5;241m*\u001b[39m\u001b[38;5;241m*\u001b[39mkwargs):\n\u001b[0;32m-> 2757\u001b[0m     \u001b[38;5;28;01mreturn\u001b[39;00m \u001b[43mgca\u001b[49m\u001b[43m(\u001b[49m\u001b[43m)\u001b[49m\u001b[38;5;241;43m.\u001b[39;49m\u001b[43mplot\u001b[49m\u001b[43m(\u001b[49m\n\u001b[1;32m   2758\u001b[0m \u001b[43m        \u001b[49m\u001b[38;5;241;43m*\u001b[39;49m\u001b[43margs\u001b[49m\u001b[43m,\u001b[49m\u001b[43m \u001b[49m\u001b[43mscalex\u001b[49m\u001b[38;5;241;43m=\u001b[39;49m\u001b[43mscalex\u001b[49m\u001b[43m,\u001b[49m\u001b[43m \u001b[49m\u001b[43mscaley\u001b[49m\u001b[38;5;241;43m=\u001b[39;49m\u001b[43mscaley\u001b[49m\u001b[43m,\u001b[49m\n\u001b[1;32m   2759\u001b[0m \u001b[43m        \u001b[49m\u001b[38;5;241;43m*\u001b[39;49m\u001b[38;5;241;43m*\u001b[39;49m\u001b[43m(\u001b[49m\u001b[43m{\u001b[49m\u001b[38;5;124;43m\"\u001b[39;49m\u001b[38;5;124;43mdata\u001b[39;49m\u001b[38;5;124;43m\"\u001b[39;49m\u001b[43m:\u001b[49m\u001b[43m \u001b[49m\u001b[43mdata\u001b[49m\u001b[43m}\u001b[49m\u001b[43m \u001b[49m\u001b[38;5;28;43;01mif\u001b[39;49;00m\u001b[43m \u001b[49m\u001b[43mdata\u001b[49m\u001b[43m \u001b[49m\u001b[38;5;129;43;01mis\u001b[39;49;00m\u001b[43m \u001b[49m\u001b[38;5;129;43;01mnot\u001b[39;49;00m\u001b[43m \u001b[49m\u001b[38;5;28;43;01mNone\u001b[39;49;00m\u001b[43m \u001b[49m\u001b[38;5;28;43;01melse\u001b[39;49;00m\u001b[43m \u001b[49m\u001b[43m{\u001b[49m\u001b[43m}\u001b[49m\u001b[43m)\u001b[49m\u001b[43m,\u001b[49m\u001b[43m \u001b[49m\u001b[38;5;241;43m*\u001b[39;49m\u001b[38;5;241;43m*\u001b[39;49m\u001b[43mkwargs\u001b[49m\u001b[43m)\u001b[49m\n",
      "File \u001b[0;32m~/anaconda3/envs/stat-pymc-inference/lib/python3.10/site-packages/matplotlib/axes/_axes.py:1632\u001b[0m, in \u001b[0;36mAxes.plot\u001b[0;34m(self, scalex, scaley, data, *args, **kwargs)\u001b[0m\n\u001b[1;32m   1390\u001b[0m \u001b[38;5;124;03m\"\"\"\u001b[39;00m\n\u001b[1;32m   1391\u001b[0m \u001b[38;5;124;03mPlot y versus x as lines and/or markers.\u001b[39;00m\n\u001b[1;32m   1392\u001b[0m \n\u001b[0;32m   (...)\u001b[0m\n\u001b[1;32m   1629\u001b[0m \u001b[38;5;124;03m(``'green'``) or hex strings (``'#008000'``).\u001b[39;00m\n\u001b[1;32m   1630\u001b[0m \u001b[38;5;124;03m\"\"\"\u001b[39;00m\n\u001b[1;32m   1631\u001b[0m kwargs \u001b[38;5;241m=\u001b[39m cbook\u001b[38;5;241m.\u001b[39mnormalize_kwargs(kwargs, mlines\u001b[38;5;241m.\u001b[39mLine2D)\n\u001b[0;32m-> 1632\u001b[0m lines \u001b[38;5;241m=\u001b[39m [\u001b[38;5;241m*\u001b[39m\u001b[38;5;28mself\u001b[39m\u001b[38;5;241m.\u001b[39m_get_lines(\u001b[38;5;241m*\u001b[39margs, data\u001b[38;5;241m=\u001b[39mdata, \u001b[38;5;241m*\u001b[39m\u001b[38;5;241m*\u001b[39mkwargs)]\n\u001b[1;32m   1633\u001b[0m \u001b[38;5;28;01mfor\u001b[39;00m line \u001b[38;5;129;01min\u001b[39;00m lines:\n\u001b[1;32m   1634\u001b[0m     \u001b[38;5;28mself\u001b[39m\u001b[38;5;241m.\u001b[39madd_line(line)\n",
      "File \u001b[0;32m~/anaconda3/envs/stat-pymc-inference/lib/python3.10/site-packages/matplotlib/axes/_base.py:312\u001b[0m, in \u001b[0;36m_process_plot_var_args.__call__\u001b[0;34m(self, data, *args, **kwargs)\u001b[0m\n\u001b[1;32m    310\u001b[0m     this \u001b[38;5;241m+\u001b[39m\u001b[38;5;241m=\u001b[39m args[\u001b[38;5;241m0\u001b[39m],\n\u001b[1;32m    311\u001b[0m     args \u001b[38;5;241m=\u001b[39m args[\u001b[38;5;241m1\u001b[39m:]\n\u001b[0;32m--> 312\u001b[0m \u001b[38;5;28;01myield from\u001b[39;00m \u001b[38;5;28;43mself\u001b[39;49m\u001b[38;5;241;43m.\u001b[39;49m\u001b[43m_plot_args\u001b[49m\u001b[43m(\u001b[49m\u001b[43mthis\u001b[49m\u001b[43m,\u001b[49m\u001b[43m \u001b[49m\u001b[43mkwargs\u001b[49m\u001b[43m)\u001b[49m\n",
      "File \u001b[0;32m~/anaconda3/envs/stat-pymc-inference/lib/python3.10/site-packages/matplotlib/axes/_base.py:498\u001b[0m, in \u001b[0;36m_process_plot_var_args._plot_args\u001b[0;34m(self, tup, kwargs, return_kwargs)\u001b[0m\n\u001b[1;32m    495\u001b[0m     \u001b[38;5;28mself\u001b[39m\u001b[38;5;241m.\u001b[39maxes\u001b[38;5;241m.\u001b[39myaxis\u001b[38;5;241m.\u001b[39mupdate_units(y)\n\u001b[1;32m    497\u001b[0m \u001b[38;5;28;01mif\u001b[39;00m x\u001b[38;5;241m.\u001b[39mshape[\u001b[38;5;241m0\u001b[39m] \u001b[38;5;241m!=\u001b[39m y\u001b[38;5;241m.\u001b[39mshape[\u001b[38;5;241m0\u001b[39m]:\n\u001b[0;32m--> 498\u001b[0m     \u001b[38;5;28;01mraise\u001b[39;00m \u001b[38;5;167;01mValueError\u001b[39;00m(\u001b[38;5;124mf\u001b[39m\u001b[38;5;124m\"\u001b[39m\u001b[38;5;124mx and y must have same first dimension, but \u001b[39m\u001b[38;5;124m\"\u001b[39m\n\u001b[1;32m    499\u001b[0m                      \u001b[38;5;124mf\u001b[39m\u001b[38;5;124m\"\u001b[39m\u001b[38;5;124mhave shapes \u001b[39m\u001b[38;5;132;01m{\u001b[39;00mx\u001b[38;5;241m.\u001b[39mshape\u001b[38;5;132;01m}\u001b[39;00m\u001b[38;5;124m and \u001b[39m\u001b[38;5;132;01m{\u001b[39;00my\u001b[38;5;241m.\u001b[39mshape\u001b[38;5;132;01m}\u001b[39;00m\u001b[38;5;124m\"\u001b[39m)\n\u001b[1;32m    500\u001b[0m \u001b[38;5;28;01mif\u001b[39;00m x\u001b[38;5;241m.\u001b[39mndim \u001b[38;5;241m>\u001b[39m \u001b[38;5;241m2\u001b[39m \u001b[38;5;129;01mor\u001b[39;00m y\u001b[38;5;241m.\u001b[39mndim \u001b[38;5;241m>\u001b[39m \u001b[38;5;241m2\u001b[39m:\n\u001b[1;32m    501\u001b[0m     \u001b[38;5;28;01mraise\u001b[39;00m \u001b[38;5;167;01mValueError\u001b[39;00m(\u001b[38;5;124mf\u001b[39m\u001b[38;5;124m\"\u001b[39m\u001b[38;5;124mx and y can be no greater than 2D, but have \u001b[39m\u001b[38;5;124m\"\u001b[39m\n\u001b[1;32m    502\u001b[0m                      \u001b[38;5;124mf\u001b[39m\u001b[38;5;124m\"\u001b[39m\u001b[38;5;124mshapes \u001b[39m\u001b[38;5;132;01m{\u001b[39;00mx\u001b[38;5;241m.\u001b[39mshape\u001b[38;5;132;01m}\u001b[39;00m\u001b[38;5;124m and \u001b[39m\u001b[38;5;132;01m{\u001b[39;00my\u001b[38;5;241m.\u001b[39mshape\u001b[38;5;132;01m}\u001b[39;00m\u001b[38;5;124m\"\u001b[39m)\n",
      "\u001b[0;31mValueError\u001b[0m: x and y must have same first dimension, but have shapes (1000,) and (12,)"
     ]
    },
    {
     "data": {
      "image/png": "[encoded data removed]",
      "text/plain": [
       "<Figure size 432x288 with 1 Axes>"
      ]
     },
     "metadata": {
      "needs_background": "light"
     },
     "output_type": "display_data"
    }
   ],
   "source": [
    "color = 'b'\n",
    "timestep = np.arange(0, 10, dt)\n",
    "#iterate through network and draw lines\n",
    "\n",
    "\n",
    "for i in opinionStorage.T:\n",
    "    if sum(i) < 0:\n",
    "        color = 'r'\n",
    "    else:\n",
    "        color ='b'   \n",
    "    plt.plot(timestep, i, color)\n",
    "\n",
    "    \n",
    "plt.xlabel('Time')\n",
    "plt.ylabel('Opinion')\n",
    "plt.title('Figure 1')\n",
    "\n",
    "plt.ylim([-1, 1])\n",
    "plt.xticks([0, 5, 10])\n",
    "plt.yticks([-5, 0, 5])\n",
    "plt.show()\n",
    "\n"
   ]
  },
  {
   "cell_type": "code",
   "execution_count": 20,
   "id": "51cc6beb",
   "metadata": {},
   "outputs": [
    {
     "ename": "TypeError",
     "evalue": "A_gen() missing 1 required positional argument: 'beta'",
     "output_type": "error",
     "traceback": [
      "\u001b[0;31m---------------------------------------------------------------------------\u001b[0m",
      "\u001b[0;31mTypeError\u001b[0m                                 Traceback (most recent call last)",
      "Input \u001b[0;32mIn [20]\u001b[0m, in \u001b[0;36m<cell line: 1>\u001b[0;34m()\u001b[0m\n\u001b[0;32m----> 1\u001b[0m \u001b[43mA_gen\u001b[49m\u001b[43m(\u001b[49m\u001b[43mmodel\u001b[49m\u001b[38;5;241;43m.\u001b[39;49m\u001b[43mgetAllOpinions\u001b[49m\u001b[43m(\u001b[49m\u001b[43m)\u001b[49m\u001b[43m)\u001b[49m\n",
      "\u001b[0;31mTypeError\u001b[0m: A_gen() missing 1 required positional argument: 'beta'"
     ]
    }
   ],
   "source": [
    "A_gen(model.getAllOpinions())"
   ]
  },
  {
   "cell_type": "code",
   "execution_count": null,
   "id": "681c97de",
   "metadata": {},
   "outputs": [],
   "source": [
    ")"
   ]
  }
 ],
 "metadata": {
  "celltoolbar": "Raw Cell Format",
  "kernelspec": {
   "display_name": "Python 3 (ipykernel)",
   "language": "python",
   "name": "python3"
  },
  "language_info": {
   "codemirror_mode": {
    "name": "ipython",
    "version": 3
   },
   "file_extension": ".py",
   "mimetype": "text/x-python",
   "name": "python",
   "nbconvert_exporter": "python",
   "pygments_lexer": "ipython3",
   "version": "3.10.4"
  }
 },
 "nbformat": 4,
 "nbformat_minor": 5
}
