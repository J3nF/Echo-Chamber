{
 "cells": [
  {
   "cell_type": "code",
   "execution_count": 1,
   "id": "c6a48c8e-93da-44b1-9670-6545d1c66246",
   "metadata": {},
   "outputs": [
    {
     "name": "stdout",
     "output_type": "stream",
     "text": [
      "Hello World\n"
     ]
    }
   ],
   "source": [
    "print('Hello World')\n",
    "#Hello world"
   ]
  },
  {
   "cell_type": "code",
   "execution_count": 4,
   "id": "049ebb5d-d01b-4ddc-b47c-bcd6d940ceda",
   "metadata": {},
   "outputs": [],
   "source": [
    "import scipy\n",
    "import scipy.stats as stats\n",
    "import numpy as np\n",
    "import matplotlib.pyplot as plt\n",
    "\n",
    "N=1000                              #Number of agents\n",
    "m=10                                #Number of interactions\n",
    "r=0.5                               #reciproke\n",
    "beta=2.1                            #Homophily\n",
    "gamma=2.1                           #Factor for activity distribution\n",
    "epsilon = 0.01                      #minimum activity\n",
    "dt=0.01\n",
    "\n",
    "\n",
    "class Agent:\n",
    "    def __init__(self, opinion, activity):\n",
    "        self.x=opinion\n",
    "        self.a=activity\n",
    "        #self.active=False\n",
    "        \n",
    "    def setOpinion(opinion):\n",
    "        self.x=opinion    \n",
    "    def getOpinion():\n",
    "        return self.x\n",
    "    \n",
    "    def setActivity(acitivity):\n",
    "        self.a=activity\n",
    "\n",
    "    #def step(self):\n",
    "        #(1) activate agent with probability\n",
    "\n",
    "        #(2) if active, ...\n",
    "        #if (self.active == True):\n",
    "\n",
    "    def updateProbability(network):\n",
    "        # Updates the probabilities between agents in the network\n",
    "        for j in network:\n",
    "            # Sets the probability that an active agent (initiator) will contact another agent\n",
    "            denominator=0\n",
    "            for i in network:\n",
    "                denominator+=abs(network[j].getOpinion()-network[i].getOpinion())**(-beta)\n",
    "            for i in network:\n",
    "                network[j].contactProbability[i]=(abs(network[j].getOpinion()-network[i].getOpinion())**(-beta))/denominator\n",
    "\n",
    "\n",
    "\n",
    "\n",
    "\n",
    "\n",
    "\n",
    "EW_a= (1-gamma)/(2-gamma)*(1-epsilon**(2-gamma))/(1-epsilon**(1-gamma))    # Expectation value from a for the ODE\n",
    "Lambda= m/N*(1+r)*EW_a                                                       # Lambda value for the ODE\n",
    "      \n",
    "def ode(agent, y):\n",
    "    for i in network:\n",
    "        sum+=np.tanh(alpha*network[i].getOpinion())\n",
    "    sum*=K*Lambda\n",
    "    return -agent.getOpinion()+sum\n",
    "    \n",
    "    \n",
    "\n",
    "class PowerLaw(stats.rv_continuous):\n",
    "        def _pdf(self,a):\n",
    "                return (1-gamma)/(1-epsilon**(1-gamma))*a**(-gamma)\n",
    "\n",
    "\n",
    "\n",
    "class Model:\n",
    "    def __init__(self, N):\n",
    "        \n",
    "        x = np.linspace(-1,1,N)\n",
    "        PowerDistribution = PowerLaw(a=epsilon)\n",
    "        a = PowerDistribution.rvs(size=N)\n",
    "        network = []\n",
    "        for i in range(N):\n",
    "            network.append(Agent(x[i], a[i]))\n",
    "    def getNetwork():\n",
    "        return self.network\n",
    "       \n",
    "\n",
    "\n",
    "\n"
   ]
  },
  {
   "cell_type": "code",
   "execution_count": 13,
   "id": "5ffdd9c1-d793-44c8-a212-b62cea3ce0fc",
   "metadata": {},
   "outputs": [],
   "source": [
    "echo_chambers_network=Model(1000)\n",
    "\n"
   ]
  },
  {
   "cell_type": "code",
   "execution_count": 3,
   "id": "ecdc5067-fa64-435e-91fb-32d6e3d44b7a",
   "metadata": {},
   "outputs": [
    {
     "name": "stdout",
     "output_type": "stream",
     "text": [
      "[1, 2, 3, 4, 5]\n",
      "[0, 2.5, 3, 2, 4]\n",
      "[0.5, 2, 2.5, 4, 3]\n",
      "[-0.5, -2.5, -2, -4.5, -6]\n",
      "[-3, -4, -2, -3.5, -2.5]\n",
      "[-1, -2, -3, -4, -5]\n"
     ]
    },
    {
     "data": {
      "image/png": "[encoded data removed]",
      "text/plain": [
       "<Figure size 432x288 with 1 Axes>"
      ]
     },
     "metadata": {
      "needs_background": "light"
     },
     "output_type": "display_data"
    }
   ],
   "source": [
    "#Dummy Data\n",
    "agent1 = [1,2,3,4,5]\n",
    "agent2 = [0,2.5,3,2,4]\n",
    "agent3 = [0.5,2,2.5,4,3]\n",
    "agent4 = [-0.5,-2.5,-2,-4.5,-6]\n",
    "agent5 = [-3,-4,-2,-3.5,-2.5]\n",
    "agent6 = [-1,-2,-3,-4,-5]\n",
    "#Dummy Network\n",
    "network = [agent1, agent2, agent3, agent4, agent5, agent6]\n",
    "\n",
    "color = 'b'\n",
    "#iterate through network and draw lines\n",
    "for i in network:\n",
    "    if sum(i) < 0:\n",
    "        color = 'r'\n",
    "    else:\n",
    "        color ='b'\n",
    "    print(i)   \n",
    "    plt.plot(i, color)\n",
    "\n",
    "    \n",
    "plt.xlabel('Time')\n",
    "plt.ylabel('Opinion')\n",
    "plt.title('Figure 1')\n",
    "\n",
    "\n",
    "plt.xticks([0, 5, 10])\n",
    "plt.yticks([-5, 0, 5])\n",
    "plt.show()"
   ]
  },
  {
   "cell_type": "code",
   "execution_count": 5,
   "id": "4dd8af73",
   "metadata": {},
   "outputs": [
    {
     "data": {
      "text/plain": [
       "[[1, 2, 3, 4, 5],\n",
       " [0, 2.5, 3, 2, 4],\n",
       " [0.5, 2, 2.5, 4, 3],\n",
       " [-0.5, -2.5, -2, -4.5, -6],\n",
       " [-3, -4, -2, -3.5, -2.5],\n",
       " [-1, -2, -3, -4, -5]]"
      ]
     },
     "execution_count": 5,
     "metadata": {},
     "output_type": "execute_result"
    }
   ],
   "source": [
    "network"
   ]
  },
  {
   "cell_type": "code",
   "execution_count": null,
   "id": "38746efa",
   "metadata": {},
   "outputs": [],
   "source": []
  }
 ],
 "metadata": {
  "kernelspec": {
   "display_name": "Python 3 (ipykernel)",
   "language": "python",
   "name": "python3"
  },
  "language_info": {
   "codemirror_mode": {
    "name": "ipython",
    "version": 3
   },
   "file_extension": ".py",
   "mimetype": "text/x-python",
   "name": "python",
   "nbconvert_exporter": "python",
   "pygments_lexer": "ipython3",
   "version": "3.10.4"
  }
 },
 "nbformat": 4,
 "nbformat_minor": 5
}
