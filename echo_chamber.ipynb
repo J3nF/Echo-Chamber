{
 "cells": [
  {
   "cell_type": "code",
   "execution_count": 1,
   "id": "c6a48c8e-93da-44b1-9670-6545d1c66246",
   "metadata": {},
   "outputs": [
    {
     "name": "stdout",
     "output_type": "stream",
     "text": [
      "Hello World\n"
     ]
    }
   ],
   "source": [
    "print('Hello World')\n",
    "#Hello world"
   ]
  },
  {
   "cell_type": "code",
   "execution_count": 4,
   "id": "049ebb5d-d01b-4ddc-b47c-bcd6d940ceda",
   "metadata": {},
   "outputs": [],
   "source": [
    "import scipy.stats as stats\n",
    "import numpy as np\n",
    "\n",
    "N=1000                              #Number of agents\n",
    "beta=2.1                            #Homophily\n",
    "gamma=2.1                           #Factor for activity distribution\n",
    "eppsilon = 0.01                     #minimum activity\n",
    "\n",
    "class Agent:\n",
    "    def __init__(self, opinion, activity):\n",
    "        self.x=opinion\n",
    "        self.a=activity\n",
    "    \n",
    "    def setOpinion(opinion):\n",
    "        self.x=opinion    \n",
    "    def getOpinion():\n",
    "        return x\n",
    "    \n",
    "    def setActivity(acitivity):\n",
    "        self.a=activity\n",
    "\n",
    "\n",
    "def activationProbability(initiator, agentList):\n",
    "    # Sets the probability that an active agent (initiator) will contact another agent\n",
    "    for i in range (0, agentList):\n",
    "        denominator+=abs(initiator.getOpinion()-agentList[i].getOpinion())**(-beta)\n",
    "    for i in rangelist:\n",
    "        initiator.contactProbability[i]=(abs(initator.getOpinion()-agentList[i].getOpinion())**(-beta))/denominator\n",
    "\n",
    "\n",
    "class PowerLaw(stats.rv_continuous):\n",
    "        \n",
    "        def _pdf(self,a):\n",
    "                return (1-gamma)/(1-eppsilon**(1-gamma))*a**(-gamma)\n"
   ]
  },
  {
   "cell_type": "code",
   "execution_count": 31,
   "id": "e6ff5999-d17d-4b02-b4f8-796bec75cb0a",
   "metadata": {},
   "outputs": [
    {
     "ename": "SyntaxError",
     "evalue": "invalid syntax (3904978643.py, line 2)",
     "output_type": "error",
     "traceback": [
      "\u001b[0;36m  Input \u001b[0;32mIn [31]\u001b[0;36m\u001b[0m\n\u001b[0;31m    n[.]\u001b[0m\n\u001b[0m      ^\u001b[0m\n\u001b[0;31mSyntaxError\u001b[0m\u001b[0;31m:\u001b[0m invalid syntax\n"
     ]
    }
   ],
   "source": [
    "n=[1,2,5]\n",
    "n[:]\n",
    "def summ(field):\n",
    "    return "
   ]
  },
  {
   "cell_type": "code",
   "execution_count": null,
   "id": "2cfac6d2-3681-40f2-8c57-eb2e627b43ea",
   "metadata": {},
   "outputs": [],
   "source": []
  }
 ],
 "metadata": {
  "kernelspec": {
   "display_name": "Python 3 (ipykernel)",
   "language": "python",
   "name": "python3"
  },
  "language_info": {
   "codemirror_mode": {
    "name": "ipython",
    "version": 3
   },
   "file_extension": ".py",
   "mimetype": "text/x-python",
   "name": "python",
   "nbconvert_exporter": "python",
   "pygments_lexer": "ipython3",
   "version": "3.9.10"
  }
 },
 "nbformat": 4,
 "nbformat_minor": 5
}
