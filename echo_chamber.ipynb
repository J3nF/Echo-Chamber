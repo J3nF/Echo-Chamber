{
 "cells": [
  {
   "cell_type": "code",
   "execution_count": 1,
   "id": "c6a48c8e-93da-44b1-9670-6545d1c66246",
   "metadata": {},
   "outputs": [
    {
     "name": "stdout",
     "output_type": "stream",
     "text": [
      "Hello World\n"
     ]
    }
   ],
   "source": [
    "print('Hello World')\n",
    "#Hello world"
   ]
  },
  {
   "cell_type": "code",
   "execution_count": 9,
   "id": "049ebb5d-d01b-4ddc-b47c-bcd6d940ceda",
   "metadata": {},
   "outputs": [],
   "source": [
    "import scipy.stats as stats\n",
    "import numpy as np\n",
    "\n",
    "N=1000                              #Number of agents\n",
    "m=10                                #Number of interactions\n",
    "r=0.5                               #reciproke\n",
    "beta=2.1                            #Homophily\n",
    "gamma=2.1                           #Factor for activity distribution\n",
    "eppsilon = 0.01                     #minimum activity\n",
    "dt=0.01\n",
    "\n",
    "\n",
    "class Agent:\n",
    "    def __init__(self, opinion, activity):\n",
    "        self.x=opinion\n",
    "        self.a=activity\n",
    "        #self.active=False\n",
    "        \n",
    "    def __init__(self, opinion, activity, network):\n",
    "        self.x=opinion\n",
    "        self.a=activity\n",
    "        activationProbability(self, network)\n",
    "        \n",
    "    def setOpinion(opinion):\n",
    "        self.x=opinion    \n",
    "    def getOpinion():\n",
    "        return self.x\n",
    "    \n",
    "    def setActivity(acitivity):\n",
    "        self.a=activity\n",
    "\n",
    "    #def step(self):\n",
    "        #(1) activate agent with probability\n",
    "\n",
    "        #(2) if active, ...\n",
    "        #if (self.active == True):\n",
    "\n",
    "        \n",
    "    \n",
    "    \n",
    "    def updateProbability(network):\n",
    "        # Updates the probabilities between agents in the network\n",
    "        for j in network:\n",
    "            # Sets the probability that an active agent (initiator) will contact another agent\n",
    "            denominator=0\n",
    "        for i in network:\n",
    "            denominator+=abs(network[j].getOpinion()-network[i].getOpinion())**(-beta)\n",
    "        for i in network:\n",
    "            network[j].contactProbability[i]=(abs(network[j].getOpinion()-network[i].getOpinion())**(-beta))/denominator\n",
    " \n",
    "\n",
    "        \n",
    "EW_a= (1-gamma)/(2-gamma)*(1-eppsilon**(2-gamma))/(1-eppsilon**(1-gamma))    # Expectation value from a for the ODE\n",
    "Lambda= m/N*(1+r)*EW_a                                                       # Lambda value for the ODE\n",
    "      \n",
    "def ode(agent, y):\n",
    "    for i in network:\n",
    "        sum+=np.tanh(alpha*network[i].getOpinion())\n",
    "    sum*=K*Lambda\n",
    "    return -agent.getOpinion()+sum\n",
    "    \n",
    "    \n",
    "\n",
    "class PowerLaw(stats.rv_continuous):\n",
    "        def _pdf(self,a):\n",
    "                return (1-gamma)/(1-eppsilon**(1-gamma))*a**(-gamma)\n",
    "\n",
    "\n",
    "\n",
    "class Model:\n",
    "    def __init__(self, N):\n",
    "        self.numberOfAgents = N\n",
    "\n",
    "        # Create agents\n",
    "        for i in range(self.numberOfAgents):\n",
    "            # get activation variable - PROBABLY WRONG   \n",
    "            act = PowerLaw(a = eppsilon)\n",
    "            activation = act.rvs()\n",
    "            # get initial opinion value\n",
    "            initialOpinion = np.random.uniform(low=-1, high=1)\n",
    "            # create agent\n",
    "            agent = Agent(initialOpinion, activation) \n",
    "    \n",
    "    #def step():\n",
    "    #    self.step()\n",
    "\n",
    "       \n",
    "\n",
    "\n",
    "\n"
   ]
  },
  {
   "cell_type": "code",
   "execution_count": 1,
   "id": "2cfac6d2-3681-40f2-8c57-eb2e627b43ea",
   "metadata": {},
   "outputs": [
    {
     "ename": "NameError",
     "evalue": "name 'np' is not defined",
     "output_type": "error",
     "traceback": [
      "\u001b[0;31m---------------------------------------------------------------------------\u001b[0m",
      "\u001b[0;31mNameError\u001b[0m                                 Traceback (most recent call last)",
      "\u001b[0;32m/var/folders/ww/xkskjvrn67728zd6c66qk0ww0000gn/T/ipykernel_15852/3180604738.py\u001b[0m in \u001b[0;36m<module>\u001b[0;34m\u001b[0m\n\u001b[0;32m----> 1\u001b[0;31m \u001b[0mnp\u001b[0m\u001b[0;34m.\u001b[0m\u001b[0mrandom\u001b[0m\u001b[0;34m.\u001b[0m\u001b[0muniform\u001b[0m\u001b[0;34m(\u001b[0m\u001b[0mlow\u001b[0m\u001b[0;34m=\u001b[0m\u001b[0;34m-\u001b[0m\u001b[0;36m1\u001b[0m\u001b[0;34m,\u001b[0m \u001b[0mhigh\u001b[0m\u001b[0;34m=\u001b[0m\u001b[0;36m1\u001b[0m\u001b[0;34m)\u001b[0m\u001b[0;34m\u001b[0m\u001b[0;34m\u001b[0m\u001b[0m\n\u001b[0m",
      "\u001b[0;31mNameError\u001b[0m: name 'np' is not defined"
     ]
    }
   ],
   "source": []
  }
 ],
 "metadata": {
  "kernelspec": {
   "display_name": "Python 3 (ipykernel)",
   "language": "python",
   "name": "python3"
  },
  "language_info": {
   "codemirror_mode": {
    "name": "ipython",
    "version": 3
   },
   "file_extension": ".py",
   "mimetype": "text/x-python",
   "name": "python",
   "nbconvert_exporter": "python",
   "pygments_lexer": "ipython3",
   "version": "3.7.3"
  }
 },
 "nbformat": 4,
 "nbformat_minor": 5
}
